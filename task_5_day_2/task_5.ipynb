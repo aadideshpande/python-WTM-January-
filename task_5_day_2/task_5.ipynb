{
 "cells": [
  {
   "cell_type": "code",
   "execution_count": null,
   "metadata": {},
   "outputs": [],
   "source": [
    "import getpass\n",
    "import sys\n",
    "import os\n",
    "\n",
    "#open the files where the username and password have been stored.\n",
    "admin=open('admin.txt','r') \n",
    "password=open('pwd.txt','r')"
   ]
  },
  {
   "cell_type": "code",
   "execution_count": null,
   "metadata": {},
   "outputs": [],
   "source": [
    "\n",
    "\n",
    "login=0\n",
    "\n",
    "while login!=3:\n",
    "    \n",
    "    uname=input('enter user name: ')\n",
    "    pwd=getpass.getpass('password :  ') #get the password from the user\n",
    "    \n",
    "    \n",
    "    if uname==admin.read(4) and pwd==password.read(9): #check if user entered data matches the data in file\n",
    "            \n",
    "            print('login successfull !!! \\n')\n",
    "            final=open('schedule.txt','r') #open the file with sensitive information if login successful\n",
    "            str=final.read(1000)\n",
    "            print(str)                  #print user's important data\n",
    "            \n",
    "            break\n",
    "        \n",
    "    \n",
    "    elif uname!=admin.read(4) or pwd!=password.read(9):\n",
    "            login+=1\n",
    "            print('you have {} more attempts remaining '.format(3-login))#in case login fails\n",
    "            \n",
    "if login==3:\n",
    "    print('sorry, you have exceeded the number of tries')\n",
    "    os.remove('schedule.txt') #if excess number of tries , delete the file"
   ]
  },
  {
   "cell_type": "code",
   "execution_count": null,
   "metadata": {},
   "outputs": [],
   "source": []
  }
 ],
 "metadata": {
  "kernelspec": {
   "display_name": "Python 3",
   "language": "python",
   "name": "python3"
  },
  "language_info": {
   "codemirror_mode": {
    "name": "ipython",
    "version": 3
   },
   "file_extension": ".py",
   "mimetype": "text/x-python",
   "name": "python",
   "nbconvert_exporter": "python",
   "pygments_lexer": "ipython3",
   "version": "3.6.5"
  }
 },
 "nbformat": 4,
 "nbformat_minor": 2
}
